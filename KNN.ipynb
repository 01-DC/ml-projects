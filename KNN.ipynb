{
 "cells": [
  {
   "cell_type": "code",
   "execution_count": 2,
   "id": "c403d3db",
   "metadata": {},
   "outputs": [],
   "source": [
    "import matplotlib.pyplot as plt\n",
    "import numpy as np\n",
    "from matplotlib.colors import ListedColormap\n",
    "from collections import Counter\n",
    "import pandas as pd"
   ]
  },
  {
   "cell_type": "code",
   "execution_count": 3,
   "id": "46d5c40f",
   "metadata": {},
   "outputs": [],
   "source": [
    "import seaborn as sns\n",
    "iris = sns.load_dataset('iris')"
   ]
  },
  {
   "cell_type": "code",
   "execution_count": 4,
   "id": "a3e5a72a",
   "metadata": {},
   "outputs": [
    {
     "data": {
      "text/html": [
       "<div>\n",
       "<style scoped>\n",
       "    .dataframe tbody tr th:only-of-type {\n",
       "        vertical-align: middle;\n",
       "    }\n",
       "\n",
       "    .dataframe tbody tr th {\n",
       "        vertical-align: top;\n",
       "    }\n",
       "\n",
       "    .dataframe thead th {\n",
       "        text-align: right;\n",
       "    }\n",
       "</style>\n",
       "<table border=\"1\" class=\"dataframe\">\n",
       "  <thead>\n",
       "    <tr style=\"text-align: right;\">\n",
       "      <th></th>\n",
       "      <th>sepal_length</th>\n",
       "      <th>sepal_width</th>\n",
       "      <th>petal_length</th>\n",
       "      <th>petal_width</th>\n",
       "      <th>species</th>\n",
       "    </tr>\n",
       "  </thead>\n",
       "  <tbody>\n",
       "    <tr>\n",
       "      <th>0</th>\n",
       "      <td>5.1</td>\n",
       "      <td>3.5</td>\n",
       "      <td>1.4</td>\n",
       "      <td>0.2</td>\n",
       "      <td>setosa</td>\n",
       "    </tr>\n",
       "    <tr>\n",
       "      <th>1</th>\n",
       "      <td>4.9</td>\n",
       "      <td>3.0</td>\n",
       "      <td>1.4</td>\n",
       "      <td>0.2</td>\n",
       "      <td>setosa</td>\n",
       "    </tr>\n",
       "    <tr>\n",
       "      <th>2</th>\n",
       "      <td>4.7</td>\n",
       "      <td>3.2</td>\n",
       "      <td>1.3</td>\n",
       "      <td>0.2</td>\n",
       "      <td>setosa</td>\n",
       "    </tr>\n",
       "    <tr>\n",
       "      <th>3</th>\n",
       "      <td>4.6</td>\n",
       "      <td>3.1</td>\n",
       "      <td>1.5</td>\n",
       "      <td>0.2</td>\n",
       "      <td>setosa</td>\n",
       "    </tr>\n",
       "    <tr>\n",
       "      <th>4</th>\n",
       "      <td>5.0</td>\n",
       "      <td>3.6</td>\n",
       "      <td>1.4</td>\n",
       "      <td>0.2</td>\n",
       "      <td>setosa</td>\n",
       "    </tr>\n",
       "    <tr>\n",
       "      <th>...</th>\n",
       "      <td>...</td>\n",
       "      <td>...</td>\n",
       "      <td>...</td>\n",
       "      <td>...</td>\n",
       "      <td>...</td>\n",
       "    </tr>\n",
       "    <tr>\n",
       "      <th>145</th>\n",
       "      <td>6.7</td>\n",
       "      <td>3.0</td>\n",
       "      <td>5.2</td>\n",
       "      <td>2.3</td>\n",
       "      <td>virginica</td>\n",
       "    </tr>\n",
       "    <tr>\n",
       "      <th>146</th>\n",
       "      <td>6.3</td>\n",
       "      <td>2.5</td>\n",
       "      <td>5.0</td>\n",
       "      <td>1.9</td>\n",
       "      <td>virginica</td>\n",
       "    </tr>\n",
       "    <tr>\n",
       "      <th>147</th>\n",
       "      <td>6.5</td>\n",
       "      <td>3.0</td>\n",
       "      <td>5.2</td>\n",
       "      <td>2.0</td>\n",
       "      <td>virginica</td>\n",
       "    </tr>\n",
       "    <tr>\n",
       "      <th>148</th>\n",
       "      <td>6.2</td>\n",
       "      <td>3.4</td>\n",
       "      <td>5.4</td>\n",
       "      <td>2.3</td>\n",
       "      <td>virginica</td>\n",
       "    </tr>\n",
       "    <tr>\n",
       "      <th>149</th>\n",
       "      <td>5.9</td>\n",
       "      <td>3.0</td>\n",
       "      <td>5.1</td>\n",
       "      <td>1.8</td>\n",
       "      <td>virginica</td>\n",
       "    </tr>\n",
       "  </tbody>\n",
       "</table>\n",
       "<p>150 rows × 5 columns</p>\n",
       "</div>"
      ],
      "text/plain": [
       "     sepal_length  sepal_width  petal_length  petal_width    species\n",
       "0             5.1          3.5           1.4          0.2     setosa\n",
       "1             4.9          3.0           1.4          0.2     setosa\n",
       "2             4.7          3.2           1.3          0.2     setosa\n",
       "3             4.6          3.1           1.5          0.2     setosa\n",
       "4             5.0          3.6           1.4          0.2     setosa\n",
       "..            ...          ...           ...          ...        ...\n",
       "145           6.7          3.0           5.2          2.3  virginica\n",
       "146           6.3          2.5           5.0          1.9  virginica\n",
       "147           6.5          3.0           5.2          2.0  virginica\n",
       "148           6.2          3.4           5.4          2.3  virginica\n",
       "149           5.9          3.0           5.1          1.8  virginica\n",
       "\n",
       "[150 rows x 5 columns]"
      ]
     },
     "execution_count": 4,
     "metadata": {},
     "output_type": "execute_result"
    }
   ],
   "source": [
    "iris"
   ]
  },
  {
   "cell_type": "code",
   "execution_count": 5,
   "id": "28052169",
   "metadata": {},
   "outputs": [],
   "source": [
    "d = {'setosa':0, 'versicolor':1, 'virginica':2}\n",
    "iris['species']=iris['species'].map(d)"
   ]
  },
  {
   "cell_type": "code",
   "execution_count": 6,
   "id": "bd7f58a4",
   "metadata": {},
   "outputs": [
    {
     "data": {
      "text/html": [
       "<div>\n",
       "<style scoped>\n",
       "    .dataframe tbody tr th:only-of-type {\n",
       "        vertical-align: middle;\n",
       "    }\n",
       "\n",
       "    .dataframe tbody tr th {\n",
       "        vertical-align: top;\n",
       "    }\n",
       "\n",
       "    .dataframe thead th {\n",
       "        text-align: right;\n",
       "    }\n",
       "</style>\n",
       "<table border=\"1\" class=\"dataframe\">\n",
       "  <thead>\n",
       "    <tr style=\"text-align: right;\">\n",
       "      <th></th>\n",
       "      <th>sepal_length</th>\n",
       "      <th>sepal_width</th>\n",
       "      <th>petal_length</th>\n",
       "      <th>petal_width</th>\n",
       "      <th>species</th>\n",
       "    </tr>\n",
       "  </thead>\n",
       "  <tbody>\n",
       "    <tr>\n",
       "      <th>79</th>\n",
       "      <td>5.7</td>\n",
       "      <td>2.6</td>\n",
       "      <td>3.5</td>\n",
       "      <td>1.0</td>\n",
       "      <td>1</td>\n",
       "    </tr>\n",
       "    <tr>\n",
       "      <th>70</th>\n",
       "      <td>5.9</td>\n",
       "      <td>3.2</td>\n",
       "      <td>4.8</td>\n",
       "      <td>1.8</td>\n",
       "      <td>1</td>\n",
       "    </tr>\n",
       "    <tr>\n",
       "      <th>128</th>\n",
       "      <td>6.4</td>\n",
       "      <td>2.8</td>\n",
       "      <td>5.6</td>\n",
       "      <td>2.1</td>\n",
       "      <td>2</td>\n",
       "    </tr>\n",
       "    <tr>\n",
       "      <th>18</th>\n",
       "      <td>5.7</td>\n",
       "      <td>3.8</td>\n",
       "      <td>1.7</td>\n",
       "      <td>0.3</td>\n",
       "      <td>0</td>\n",
       "    </tr>\n",
       "    <tr>\n",
       "      <th>135</th>\n",
       "      <td>7.7</td>\n",
       "      <td>3.0</td>\n",
       "      <td>6.1</td>\n",
       "      <td>2.3</td>\n",
       "      <td>2</td>\n",
       "    </tr>\n",
       "    <tr>\n",
       "      <th>...</th>\n",
       "      <td>...</td>\n",
       "      <td>...</td>\n",
       "      <td>...</td>\n",
       "      <td>...</td>\n",
       "      <td>...</td>\n",
       "    </tr>\n",
       "    <tr>\n",
       "      <th>77</th>\n",
       "      <td>6.7</td>\n",
       "      <td>3.0</td>\n",
       "      <td>5.0</td>\n",
       "      <td>1.7</td>\n",
       "      <td>1</td>\n",
       "    </tr>\n",
       "    <tr>\n",
       "      <th>51</th>\n",
       "      <td>6.4</td>\n",
       "      <td>3.2</td>\n",
       "      <td>4.5</td>\n",
       "      <td>1.5</td>\n",
       "      <td>1</td>\n",
       "    </tr>\n",
       "    <tr>\n",
       "      <th>65</th>\n",
       "      <td>6.7</td>\n",
       "      <td>3.1</td>\n",
       "      <td>4.4</td>\n",
       "      <td>1.4</td>\n",
       "      <td>1</td>\n",
       "    </tr>\n",
       "    <tr>\n",
       "      <th>59</th>\n",
       "      <td>5.2</td>\n",
       "      <td>2.7</td>\n",
       "      <td>3.9</td>\n",
       "      <td>1.4</td>\n",
       "      <td>1</td>\n",
       "    </tr>\n",
       "    <tr>\n",
       "      <th>15</th>\n",
       "      <td>5.7</td>\n",
       "      <td>4.4</td>\n",
       "      <td>1.5</td>\n",
       "      <td>0.4</td>\n",
       "      <td>0</td>\n",
       "    </tr>\n",
       "  </tbody>\n",
       "</table>\n",
       "<p>150 rows × 5 columns</p>\n",
       "</div>"
      ],
      "text/plain": [
       "     sepal_length  sepal_width  petal_length  petal_width  species\n",
       "79            5.7          2.6           3.5          1.0        1\n",
       "70            5.9          3.2           4.8          1.8        1\n",
       "128           6.4          2.8           5.6          2.1        2\n",
       "18            5.7          3.8           1.7          0.3        0\n",
       "135           7.7          3.0           6.1          2.3        2\n",
       "..            ...          ...           ...          ...      ...\n",
       "77            6.7          3.0           5.0          1.7        1\n",
       "51            6.4          3.2           4.5          1.5        1\n",
       "65            6.7          3.1           4.4          1.4        1\n",
       "59            5.2          2.7           3.9          1.4        1\n",
       "15            5.7          4.4           1.5          0.4        0\n",
       "\n",
       "[150 rows x 5 columns]"
      ]
     },
     "execution_count": 6,
     "metadata": {},
     "output_type": "execute_result"
    }
   ],
   "source": [
    "iris = iris.sample(frac=1)\n",
    "iris"
   ]
  },
  {
   "cell_type": "code",
   "execution_count": 7,
   "id": "097698fd",
   "metadata": {},
   "outputs": [
    {
     "data": {
      "text/html": [
       "<div>\n",
       "<style scoped>\n",
       "    .dataframe tbody tr th:only-of-type {\n",
       "        vertical-align: middle;\n",
       "    }\n",
       "\n",
       "    .dataframe tbody tr th {\n",
       "        vertical-align: top;\n",
       "    }\n",
       "\n",
       "    .dataframe thead th {\n",
       "        text-align: right;\n",
       "    }\n",
       "</style>\n",
       "<table border=\"1\" class=\"dataframe\">\n",
       "  <thead>\n",
       "    <tr style=\"text-align: right;\">\n",
       "      <th></th>\n",
       "      <th>sepal_length</th>\n",
       "      <th>sepal_width</th>\n",
       "      <th>petal_length</th>\n",
       "      <th>petal_width</th>\n",
       "    </tr>\n",
       "  </thead>\n",
       "  <tbody>\n",
       "    <tr>\n",
       "      <th>79</th>\n",
       "      <td>5.7</td>\n",
       "      <td>2.6</td>\n",
       "      <td>3.5</td>\n",
       "      <td>1.0</td>\n",
       "    </tr>\n",
       "    <tr>\n",
       "      <th>70</th>\n",
       "      <td>5.9</td>\n",
       "      <td>3.2</td>\n",
       "      <td>4.8</td>\n",
       "      <td>1.8</td>\n",
       "    </tr>\n",
       "    <tr>\n",
       "      <th>128</th>\n",
       "      <td>6.4</td>\n",
       "      <td>2.8</td>\n",
       "      <td>5.6</td>\n",
       "      <td>2.1</td>\n",
       "    </tr>\n",
       "    <tr>\n",
       "      <th>18</th>\n",
       "      <td>5.7</td>\n",
       "      <td>3.8</td>\n",
       "      <td>1.7</td>\n",
       "      <td>0.3</td>\n",
       "    </tr>\n",
       "    <tr>\n",
       "      <th>135</th>\n",
       "      <td>7.7</td>\n",
       "      <td>3.0</td>\n",
       "      <td>6.1</td>\n",
       "      <td>2.3</td>\n",
       "    </tr>\n",
       "    <tr>\n",
       "      <th>...</th>\n",
       "      <td>...</td>\n",
       "      <td>...</td>\n",
       "      <td>...</td>\n",
       "      <td>...</td>\n",
       "    </tr>\n",
       "    <tr>\n",
       "      <th>77</th>\n",
       "      <td>6.7</td>\n",
       "      <td>3.0</td>\n",
       "      <td>5.0</td>\n",
       "      <td>1.7</td>\n",
       "    </tr>\n",
       "    <tr>\n",
       "      <th>51</th>\n",
       "      <td>6.4</td>\n",
       "      <td>3.2</td>\n",
       "      <td>4.5</td>\n",
       "      <td>1.5</td>\n",
       "    </tr>\n",
       "    <tr>\n",
       "      <th>65</th>\n",
       "      <td>6.7</td>\n",
       "      <td>3.1</td>\n",
       "      <td>4.4</td>\n",
       "      <td>1.4</td>\n",
       "    </tr>\n",
       "    <tr>\n",
       "      <th>59</th>\n",
       "      <td>5.2</td>\n",
       "      <td>2.7</td>\n",
       "      <td>3.9</td>\n",
       "      <td>1.4</td>\n",
       "    </tr>\n",
       "    <tr>\n",
       "      <th>15</th>\n",
       "      <td>5.7</td>\n",
       "      <td>4.4</td>\n",
       "      <td>1.5</td>\n",
       "      <td>0.4</td>\n",
       "    </tr>\n",
       "  </tbody>\n",
       "</table>\n",
       "<p>150 rows × 4 columns</p>\n",
       "</div>"
      ],
      "text/plain": [
       "     sepal_length  sepal_width  petal_length  petal_width\n",
       "79            5.7          2.6           3.5          1.0\n",
       "70            5.9          3.2           4.8          1.8\n",
       "128           6.4          2.8           5.6          2.1\n",
       "18            5.7          3.8           1.7          0.3\n",
       "135           7.7          3.0           6.1          2.3\n",
       "..            ...          ...           ...          ...\n",
       "77            6.7          3.0           5.0          1.7\n",
       "51            6.4          3.2           4.5          1.5\n",
       "65            6.7          3.1           4.4          1.4\n",
       "59            5.2          2.7           3.9          1.4\n",
       "15            5.7          4.4           1.5          0.4\n",
       "\n",
       "[150 rows x 4 columns]"
      ]
     },
     "execution_count": 7,
     "metadata": {},
     "output_type": "execute_result"
    }
   ],
   "source": [
    "X = iris.iloc[:,0:4]\n",
    "X"
   ]
  },
  {
   "cell_type": "code",
   "execution_count": 8,
   "id": "bf87d587",
   "metadata": {},
   "outputs": [
    {
     "data": {
      "text/plain": [
       "79     1\n",
       "70     1\n",
       "128    2\n",
       "18     0\n",
       "135    2\n",
       "      ..\n",
       "77     1\n",
       "51     1\n",
       "65     1\n",
       "59     1\n",
       "15     0\n",
       "Name: species, Length: 150, dtype: int64"
      ]
     },
     "execution_count": 8,
     "metadata": {},
     "output_type": "execute_result"
    }
   ],
   "source": [
    "Y = iris.iloc[:,4]\n",
    "Y"
   ]
  },
  {
   "cell_type": "code",
   "execution_count": 9,
   "id": "d6fe2271",
   "metadata": {},
   "outputs": [
    {
     "data": {
      "text/plain": [
       "array([[5.7, 2.6, 3.5, 1. ],\n",
       "       [5.9, 3.2, 4.8, 1.8],\n",
       "       [6.4, 2.8, 5.6, 2.1],\n",
       "       [5.7, 3.8, 1.7, 0.3],\n",
       "       [7.7, 3. , 6.1, 2.3],\n",
       "       [5.8, 4. , 1.2, 0.2],\n",
       "       [6.4, 3.2, 5.3, 2.3],\n",
       "       [6.6, 3. , 4.4, 1.4],\n",
       "       [5.3, 3.7, 1.5, 0.2],\n",
       "       [5.9, 3. , 5.1, 1.8],\n",
       "       [6.4, 2.9, 4.3, 1.3],\n",
       "       [6.4, 3.1, 5.5, 1.8],\n",
       "       [7.2, 3. , 5.8, 1.6],\n",
       "       [4.7, 3.2, 1.3, 0.2],\n",
       "       [4.8, 3. , 1.4, 0.1],\n",
       "       [5.6, 2.8, 4.9, 2. ],\n",
       "       [4.8, 3. , 1.4, 0.3],\n",
       "       [5.8, 2.8, 5.1, 2.4],\n",
       "       [5.5, 2.5, 4. , 1.3],\n",
       "       [5.9, 3. , 4.2, 1.5],\n",
       "       [4.6, 3.6, 1. , 0.2],\n",
       "       [6.3, 3.3, 6. , 2.5],\n",
       "       [4.4, 2.9, 1.4, 0.2],\n",
       "       [7.7, 3.8, 6.7, 2.2],\n",
       "       [6.3, 2.5, 5. , 1.9],\n",
       "       [5.5, 2.6, 4.4, 1.2],\n",
       "       [6.5, 3. , 5.8, 2.2],\n",
       "       [5. , 2. , 3.5, 1. ],\n",
       "       [6.3, 3.4, 5.6, 2.4],\n",
       "       [4.9, 3.6, 1.4, 0.1],\n",
       "       [5.5, 3.5, 1.3, 0.2],\n",
       "       [5.1, 3.5, 1.4, 0.3],\n",
       "       [6.1, 2.9, 4.7, 1.4],\n",
       "       [6.9, 3.2, 5.7, 2.3],\n",
       "       [4.8, 3.1, 1.6, 0.2],\n",
       "       [6.9, 3.1, 4.9, 1.5],\n",
       "       [5.4, 3.4, 1.7, 0.2],\n",
       "       [4.5, 2.3, 1.3, 0.3],\n",
       "       [6. , 2.9, 4.5, 1.5],\n",
       "       [6.4, 2.7, 5.3, 1.9],\n",
       "       [5.4, 3. , 4.5, 1.5],\n",
       "       [5.7, 2.9, 4.2, 1.3],\n",
       "       [6.3, 2.9, 5.6, 1.8],\n",
       "       [7. , 3.2, 4.7, 1.4],\n",
       "       [5.1, 3.8, 1.6, 0.2],\n",
       "       [7.9, 3.8, 6.4, 2. ],\n",
       "       [6.2, 2.2, 4.5, 1.5],\n",
       "       [6.6, 2.9, 4.6, 1.3],\n",
       "       [6. , 2.7, 5.1, 1.6],\n",
       "       [7.6, 3. , 6.6, 2.1],\n",
       "       [6.1, 2.6, 5.6, 1.4],\n",
       "       [7.2, 3.6, 6.1, 2.5],\n",
       "       [6. , 2.2, 4. , 1. ],\n",
       "       [6.8, 3. , 5.5, 2.1],\n",
       "       [5.4, 3.9, 1.3, 0.4],\n",
       "       [5. , 3.5, 1.6, 0.6],\n",
       "       [5. , 3.4, 1.6, 0.4],\n",
       "       [5. , 3.5, 1.3, 0.3],\n",
       "       [4.6, 3.1, 1.5, 0.2],\n",
       "       [5.4, 3.9, 1.7, 0.4],\n",
       "       [5. , 3.6, 1.4, 0.2],\n",
       "       [7.1, 3. , 5.9, 2.1],\n",
       "       [4.4, 3.2, 1.3, 0.2],\n",
       "       [5. , 3. , 1.6, 0.2],\n",
       "       [6.3, 2.8, 5.1, 1.5],\n",
       "       [6.7, 2.5, 5.8, 1.8],\n",
       "       [6.1, 2.8, 4.7, 1.2],\n",
       "       [5.6, 3. , 4.5, 1.5],\n",
       "       [6.3, 3.3, 4.7, 1.6],\n",
       "       [5.7, 3. , 4.2, 1.2],\n",
       "       [6. , 3. , 4.8, 1.8],\n",
       "       [5.2, 3.5, 1.5, 0.2],\n",
       "       [4.6, 3.2, 1.4, 0.2],\n",
       "       [6.7, 3.1, 5.6, 2.4],\n",
       "       [5.2, 4.1, 1.5, 0.1],\n",
       "       [6.2, 2.8, 4.8, 1.8],\n",
       "       [5.1, 3.7, 1.5, 0.4],\n",
       "       [5.6, 3. , 4.1, 1.3],\n",
       "       [4.9, 2.5, 4.5, 1.7],\n",
       "       [6.2, 3.4, 5.4, 2.3],\n",
       "       [5.7, 2.8, 4.5, 1.3],\n",
       "       [6.8, 2.8, 4.8, 1.4],\n",
       "       [5. , 3.4, 1.5, 0.2],\n",
       "       [5.5, 2.3, 4. , 1.3],\n",
       "       [4.3, 3. , 1.1, 0.1],\n",
       "       [5.8, 2.7, 5.1, 1.9],\n",
       "       [5.8, 2.7, 5.1, 1.9],\n",
       "       [6.1, 3. , 4.9, 1.8],\n",
       "       [4.8, 3.4, 1.6, 0.2],\n",
       "       [4.9, 2.4, 3.3, 1. ],\n",
       "       [6.7, 3. , 5.2, 2.3],\n",
       "       [6.5, 3.2, 5.1, 2. ],\n",
       "       [4.9, 3. , 1.4, 0.2],\n",
       "       [5.8, 2.7, 4.1, 1. ],\n",
       "       [5.6, 2.7, 4.2, 1.3],\n",
       "       [5.1, 3.8, 1.5, 0.3],\n",
       "       [6. , 3.4, 4.5, 1.6],\n",
       "       [4.8, 3.4, 1.9, 0.2],\n",
       "       [6.9, 3.1, 5.4, 2.1],\n",
       "       [5.5, 2.4, 3.8, 1.1],\n",
       "       [6.5, 3. , 5.5, 1.8],\n",
       "       [6.3, 2.3, 4.4, 1.3],\n",
       "       [5.6, 2.5, 3.9, 1.1],\n",
       "       [6.7, 3.1, 4.7, 1.5],\n",
       "       [6.3, 2.7, 4.9, 1.8],\n",
       "       [5. , 3.3, 1.4, 0.2],\n",
       "       [7.3, 2.9, 6.3, 1.8],\n",
       "       [4.9, 3.1, 1.5, 0.1],\n",
       "       [6. , 2.2, 5. , 1.5],\n",
       "       [5.4, 3.7, 1.5, 0.2],\n",
       "       [5.1, 3.8, 1.9, 0.4],\n",
       "       [5.1, 3.4, 1.5, 0.2],\n",
       "       [5.5, 4.2, 1.4, 0.2],\n",
       "       [5. , 3.2, 1.2, 0.2],\n",
       "       [5.7, 2.8, 4.1, 1.3],\n",
       "       [6.2, 2.9, 4.3, 1.3],\n",
       "       [5.7, 2.5, 5. , 2. ],\n",
       "       [4.7, 3.2, 1.6, 0.2],\n",
       "       [6.3, 2.5, 4.9, 1.5],\n",
       "       [5. , 2.3, 3.3, 1. ]])"
      ]
     },
     "execution_count": 9,
     "metadata": {},
     "output_type": "execute_result"
    }
   ],
   "source": [
    "X_train = np.array(X.iloc[0:120, :])\n",
    "X_train"
   ]
  },
  {
   "cell_type": "code",
   "execution_count": 10,
   "id": "2dc0bd1f",
   "metadata": {},
   "outputs": [
    {
     "data": {
      "text/plain": [
       "array([1, 1, 2, 0, 2, 0, 2, 1, 0, 2], dtype=int64)"
      ]
     },
     "execution_count": 10,
     "metadata": {},
     "output_type": "execute_result"
    }
   ],
   "source": [
    "Y_train=np.array(Y.iloc[0:120])\n",
    "Y_train[:10]"
   ]
  },
  {
   "cell_type": "code",
   "execution_count": 11,
   "id": "fdf75531",
   "metadata": {},
   "outputs": [
    {
     "data": {
      "text/plain": [
       "array([[5.1, 2.5, 3. , 1.1],\n",
       "       [5.1, 3.5, 1.4, 0.2],\n",
       "       [7.4, 2.8, 6.1, 1.9],\n",
       "       [4.4, 3. , 1.3, 0.2],\n",
       "       [7.7, 2.8, 6.7, 2. ],\n",
       "       [5.2, 3.4, 1.4, 0.2],\n",
       "       [6.8, 3.2, 5.9, 2.3],\n",
       "       [6.7, 3.3, 5.7, 2.1],\n",
       "       [6.5, 2.8, 4.6, 1.5],\n",
       "       [6.1, 2.8, 4. , 1.3]])"
      ]
     },
     "execution_count": 11,
     "metadata": {},
     "output_type": "execute_result"
    }
   ],
   "source": [
    "X_test=np.array(X.iloc[120:])\n",
    "X_test[:10]"
   ]
  },
  {
   "cell_type": "code",
   "execution_count": 12,
   "id": "9f9958fe",
   "metadata": {},
   "outputs": [
    {
     "data": {
      "text/plain": [
       "array([1, 0, 2, 0, 2, 0, 2, 2, 1, 1], dtype=int64)"
      ]
     },
     "execution_count": 12,
     "metadata": {},
     "output_type": "execute_result"
    }
   ],
   "source": [
    "Y_test = np.array(Y.iloc[120:])\n",
    "Y_test[:10]"
   ]
  },
  {
   "cell_type": "code",
   "execution_count": 13,
   "id": "2fd1f718",
   "metadata": {},
   "outputs": [
    {
     "data": {
      "image/png": "[encoded data removed]",
      "text/plain": [
       "<Figure size 432x288 with 1 Axes>"
      ]
     },
     "metadata": {
      "needs_background": "light"
     },
     "output_type": "display_data"
    }
   ],
   "source": [
    "cmap = ListedColormap(['#FF0000','#00FF00','#0000FF'])\n",
    "plt.figure()\n",
    "plt.scatter(X_train[:,2],X_train[:,3],c=Y_train, cmap=cmap)\n",
    "plt.scatter(X_test[6,2],X_test[6,3])\n",
    "plt.show()"
   ]
  },
  {
   "cell_type": "code",
   "execution_count": 14,
   "id": "047b9722",
   "metadata": {},
   "outputs": [],
   "source": [
    "def euclidean_distance(x1,x2):\n",
    "    distance = np.sqrt(np.sum((x1-x2)**2))\n",
    "    return distance"
   ]
  },
  {
   "cell_type": "code",
   "execution_count": 22,
   "id": "2917f4ad",
   "metadata": {},
   "outputs": [],
   "source": [
    "def _predict_one(x,X_train,Y_train,k):\n",
    "    distances = [euclidean_distance(x, x_train) for x_train in X_train]\n",
    "    \n",
    "    k_indices = np.argsort(distances)[:k]\n",
    "    # print(k_indices)\n",
    "    k_nearest_labels = [Y_train[i] for i in k_indices]\n",
    "    # print(k_nearest_labels)\n",
    "    \n",
    "    mostCommon = Counter(k_nearest_labels).most_common()[0]\n",
    "    return mostCommon[0]"
   ]
  },
  {
   "cell_type": "code",
   "execution_count": 23,
   "id": "ae547f5f",
   "metadata": {},
   "outputs": [
    {
     "data": {
      "text/plain": [
       "2"
      ]
     },
     "execution_count": 23,
     "metadata": {},
     "output_type": "execute_result"
    }
   ],
   "source": [
    "_predict_one(X_test[6,:],X_train,Y_train,3)"
   ]
  },
  {
   "cell_type": "code",
   "execution_count": 25,
   "id": "88f3a4d9",
   "metadata": {},
   "outputs": [
    {
     "name": "stdout",
     "output_type": "stream",
     "text": [
      "Accuracy for K= 3 1.0\n",
      "[1, 0, 2, 0, 2, 0, 2, 2, 1, 1, 2, 1, 2, 0, 2, 0, 0, 0, 2, 1, 1, 1, 2, 1, 2, 1, 1, 1, 1, 0]\n",
      "[1 0 2 0 2 0 2 2 1 1 2 1 2 0 2 0 0 0 2 1 1 1 2 1 2 1 1 1 1 0]\n"
     ]
    }
   ],
   "source": [
    "preds = []\n",
    "K = 3\n",
    "for i in range(X_test.shape[0]):\n",
    "    preds.append(_predict_one(X_test[i, :], X_train, Y_train, K))\n",
    "\n",
    "test_size = len(Y_test)\n",
    "count = 0\n",
    "for i in range(test_size):\n",
    "    if preds[i] == Y_test[i]:\n",
    "        count+= 1\n",
    "\n",
    "print(\"Accuracy for K=\", K, count/test_size)\n",
    "print(preds)\n",
    "print(Y_test)"
   ]
  },
  {
   "cell_type": "code",
   "execution_count": 26,
   "id": "18e6c05c",
   "metadata": {},
   "outputs": [
    {
     "name": "stdout",
     "output_type": "stream",
     "text": [
      "Accuracy for K= 5 1.0\n",
      "[1, 0, 2, 0, 2, 0, 2, 2, 1, 1, 2, 1, 2, 0, 2, 0, 0, 0, 2, 1, 1, 1, 2, 1, 2, 1, 1, 1, 1, 0]\n",
      "[1 0 2 0 2 0 2 2 1 1 2 1 2 0 2 0 0 0 2 1 1 1 2 1 2 1 1 1 1 0]\n"
     ]
    }
   ],
   "source": [
    "preds = []\n",
    "K = 5\n",
    "for i in range(X_test.shape[0]):\n",
    "    preds.append(_predict_one(X_test[i, :], X_train, Y_train, K))\n",
    "\n",
    "test_size = len(Y_test)\n",
    "count = 0\n",
    "for i in range(test_size):\n",
    "    if preds[i] == Y_test[i]:\n",
    "        count+= 1\n",
    "\n",
    "print(\"Accuracy for K=\", K, count/test_size)\n",
    "print(preds)\n",
    "print(Y_test)"
   ]
  },
  {
   "cell_type": "code",
   "execution_count": 27,
   "id": "26683223",
   "metadata": {},
   "outputs": [
    {
     "name": "stdout",
     "output_type": "stream",
     "text": [
      "Accuracy for K= 7 0.9666666666666667\n",
      "[1, 0, 2, 0, 2, 0, 2, 2, 1, 1, 2, 1, 2, 0, 2, 0, 0, 0, 2, 1, 1, 1, 2, 1, 2, 2, 1, 1, 1, 0]\n",
      "[1 0 2 0 2 0 2 2 1 1 2 1 2 0 2 0 0 0 2 1 1 1 2 1 2 1 1 1 1 0]\n"
     ]
    }
   ],
   "source": [
    "preds = []\n",
    "K = 7\n",
    "for i in range(X_test.shape[0]):\n",
    "    preds.append(_predict_one(X_test[i, :], X_train, Y_train, K))\n",
    "\n",
    "test_size = len(Y_test)\n",
    "count = 0\n",
    "for i in range(test_size):\n",
    "    if preds[i] == Y_test[i]:\n",
    "        count+= 1\n",
    "\n",
    "print(\"Accuracy for K=\", K, count/test_size)\n",
    "print(preds)\n",
    "print(Y_test)"
   ]
  },
  {
   "cell_type": "code",
   "execution_count": null,
   "id": "51176a60",
   "metadata": {},
   "outputs": [],
   "source": []
  }
 ],
 "metadata": {
  "kernelspec": {
   "display_name": "Python 3 (ipykernel)",
   "language": "python",
   "name": "python3"
  },
  "language_info": {
   "codemirror_mode": {
    "name": "ipython",
    "version": 3
   },
   "file_extension": ".py",
   "mimetype": "text/x-python",
   "name": "python",
   "nbconvert_exporter": "python",
   "pygments_lexer": "ipython3",
   "version": "3.8.8"
  }
 },
 "nbformat": 4,
 "nbformat_minor": 5
}
