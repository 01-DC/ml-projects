{
 "cells": [
  {
   "cell_type": "code",
   "execution_count": 1,
   "id": "6d502d3a",
   "metadata": {
    "execution": {
     "iopub.execute_input": "2023-04-27T22:29:39.477356Z",
     "iopub.status.busy": "2023-04-27T22:29:39.476848Z",
     "iopub.status.idle": "2023-04-27T22:29:45.998302Z",
     "shell.execute_reply": "2023-04-27T22:29:45.997355Z"
    },
    "id": "HhwBDkIc-13u",
    "papermill": {
     "duration": 6.531579,
     "end_time": "2023-04-27T22:29:46.000930",
     "exception": false,
     "start_time": "2023-04-27T22:29:39.469351",
     "status": "completed"
    },
    "tags": []
   },
   "outputs": [],
   "source": [
    "import numpy as np\n",
    "import pandas as pd\n",
    "from matplotlib import pyplot as plt\n",
    "import nltk\n",
    "import re \n",
    "from nltk.tokenize import word_tokenize\n",
    "from nltk.corpus import stopwords\n",
    "from nltk.stem.porter import PorterStemmer\n",
    "from keras.preprocessing.text import Tokenizer\n",
    "from tensorflow.keras.preprocessing.sequence import pad_sequences\n",
    "from sklearn.model_selection import train_test_split\n",
    "from keras.models import Sequential\n",
    "from keras.layers import Dense, Dropout, Embedding, LSTM, GlobalMaxPooling1D, SpatialDropout1D\n",
    "from keras.callbacks import EarlyStopping"
   ]
  },
  {
   "cell_type": "code",
   "execution_count": 2,
   "id": "1d0c4773",
   "metadata": {
    "execution": {
     "iopub.execute_input": "2023-04-27T22:29:46.012847Z",
     "iopub.status.busy": "2023-04-27T22:29:46.011796Z",
     "iopub.status.idle": "2023-04-27T22:29:46.310091Z",
     "shell.execute_reply": "2023-04-27T22:29:46.309100Z"
    },
    "id": "5LkjgDEF-13w",
    "papermill": {
     "duration": 0.306633,
     "end_time": "2023-04-27T22:29:46.312659",
     "exception": false,
     "start_time": "2023-04-27T22:29:46.006026",
     "status": "completed"
    },
    "tags": []
   },
   "outputs": [
    {
     "data": {
      "text/html": [
       "<div>\n",
       "<style scoped>\n",
       "    .dataframe tbody tr th:only-of-type {\n",
       "        vertical-align: middle;\n",
       "    }\n",
       "\n",
       "    .dataframe tbody tr th {\n",
       "        vertical-align: top;\n",
       "    }\n",
       "\n",
       "    .dataframe thead th {\n",
       "        text-align: right;\n",
       "    }\n",
       "</style>\n",
       "<table border=\"1\" class=\"dataframe\">\n",
       "  <thead>\n",
       "    <tr style=\"text-align: right;\">\n",
       "      <th></th>\n",
       "      <th>Tweet_ID</th>\n",
       "      <th>Entity</th>\n",
       "      <th>Sentiment</th>\n",
       "      <th>Tweet_content</th>\n",
       "    </tr>\n",
       "  </thead>\n",
       "  <tbody>\n",
       "    <tr>\n",
       "      <th>0</th>\n",
       "      <td>2401</td>\n",
       "      <td>Borderlands</td>\n",
       "      <td>Positive</td>\n",
       "      <td>im getting on borderlands and i will murder yo...</td>\n",
       "    </tr>\n",
       "    <tr>\n",
       "      <th>1</th>\n",
       "      <td>2401</td>\n",
       "      <td>Borderlands</td>\n",
       "      <td>Positive</td>\n",
       "      <td>I am coming to the borders and I will kill you...</td>\n",
       "    </tr>\n",
       "    <tr>\n",
       "      <th>2</th>\n",
       "      <td>2401</td>\n",
       "      <td>Borderlands</td>\n",
       "      <td>Positive</td>\n",
       "      <td>im getting on borderlands and i will kill you ...</td>\n",
       "    </tr>\n",
       "    <tr>\n",
       "      <th>3</th>\n",
       "      <td>2401</td>\n",
       "      <td>Borderlands</td>\n",
       "      <td>Positive</td>\n",
       "      <td>im coming on borderlands and i will murder you...</td>\n",
       "    </tr>\n",
       "    <tr>\n",
       "      <th>4</th>\n",
       "      <td>2401</td>\n",
       "      <td>Borderlands</td>\n",
       "      <td>Positive</td>\n",
       "      <td>im getting on borderlands 2 and i will murder ...</td>\n",
       "    </tr>\n",
       "  </tbody>\n",
       "</table>\n",
       "</div>"
      ],
      "text/plain": [
       "   Tweet_ID       Entity Sentiment  \\\n",
       "0      2401  Borderlands  Positive   \n",
       "1      2401  Borderlands  Positive   \n",
       "2      2401  Borderlands  Positive   \n",
       "3      2401  Borderlands  Positive   \n",
       "4      2401  Borderlands  Positive   \n",
       "\n",
       "                                       Tweet_content  \n",
       "0  im getting on borderlands and i will murder yo...  \n",
       "1  I am coming to the borders and I will kill you...  \n",
       "2  im getting on borderlands and i will kill you ...  \n",
       "3  im coming on borderlands and i will murder you...  \n",
       "4  im getting on borderlands 2 and i will murder ...  "
      ]
     },
     "execution_count": 2,
     "metadata": {},
     "output_type": "execute_result"
    }
   ],
   "source": [
    "data=pd.read_csv('../input/twitter-entity-sentiment-analysis/twitter_training.csv', sep=',', names=['Tweet_ID','Entity','Sentiment','Tweet_content'])\n",
    "data.head()"
   ]
  },
  {
   "cell_type": "code",
   "execution_count": 3,
   "id": "2ba8e64b",
   "metadata": {
    "execution": {
     "iopub.execute_input": "2023-04-27T22:29:46.325472Z",
     "iopub.status.busy": "2023-04-27T22:29:46.323702Z",
     "iopub.status.idle": "2023-04-27T22:29:46.332092Z",
     "shell.execute_reply": "2023-04-27T22:29:46.331182Z"
    },
    "id": "jeVC9S51-13x",
    "outputId": "a15fd596-ca48-4db8-dcf2-56c42899cbcf",
    "papermill": {
     "duration": 0.016458,
     "end_time": "2023-04-27T22:29:46.334272",
     "exception": false,
     "start_time": "2023-04-27T22:29:46.317814",
     "status": "completed"
    },
    "tags": []
   },
   "outputs": [
    {
     "data": {
      "text/plain": [
       "(74682, 4)"
      ]
     },
     "execution_count": 3,
     "metadata": {},
     "output_type": "execute_result"
    }
   ],
   "source": [
    "data.shape"
   ]
  },
  {
   "cell_type": "code",
   "execution_count": 4,
   "id": "152f51c9",
   "metadata": {
    "execution": {
     "iopub.execute_input": "2023-04-27T22:29:46.345651Z",
     "iopub.status.busy": "2023-04-27T22:29:46.345380Z",
     "iopub.status.idle": "2023-04-27T22:29:46.360407Z",
     "shell.execute_reply": "2023-04-27T22:29:46.359330Z"
    },
    "id": "S5T_QN7H-13z",
    "outputId": "4d01e2fe-e0a3-4f47-92bf-8697aac7f627",
    "papermill": {
     "duration": 0.023212,
     "end_time": "2023-04-27T22:29:46.362564",
     "exception": false,
     "start_time": "2023-04-27T22:29:46.339352",
     "status": "completed"
    },
    "tags": []
   },
   "outputs": [
    {
     "data": {
      "text/plain": [
       "array(['Borderlands', 'CallOfDutyBlackopsColdWar', 'Amazon', 'Overwatch',\n",
       "       'Xbox(Xseries)', 'NBA2K', 'Dota2', 'PlayStation5(PS5)',\n",
       "       'WorldOfCraft', 'CS-GO', 'Google', 'AssassinsCreed', 'ApexLegends',\n",
       "       'LeagueOfLegends', 'Fortnite', 'Microsoft', 'Hearthstone',\n",
       "       'Battlefield', 'PlayerUnknownsBattlegrounds(PUBG)', 'Verizon',\n",
       "       'HomeDepot', 'FIFA', 'RedDeadRedemption(RDR)', 'CallOfDuty',\n",
       "       'TomClancysRainbowSix', 'Facebook', 'GrandTheftAuto(GTA)',\n",
       "       'MaddenNFL', 'johnson&johnson', 'Cyberpunk2077',\n",
       "       'TomClancysGhostRecon', 'Nvidia'], dtype=object)"
      ]
     },
     "execution_count": 4,
     "metadata": {},
     "output_type": "execute_result"
    }
   ],
   "source": [
    "data.Entity.unique()"
   ]
  },
  {
   "cell_type": "code",
   "execution_count": 5,
   "id": "11cd4df3",
   "metadata": {
    "execution": {
     "iopub.execute_input": "2023-04-27T22:29:46.373943Z",
     "iopub.status.busy": "2023-04-27T22:29:46.373675Z",
     "iopub.status.idle": "2023-04-27T22:29:46.539716Z",
     "shell.execute_reply": "2023-04-27T22:29:46.538416Z"
    },
    "id": "XqqfcLxC-130",
    "outputId": "6a5aa9fe-ae29-46ff-8157-333ee2db7afd",
    "papermill": {
     "duration": 0.174959,
     "end_time": "2023-04-27T22:29:46.542678",
     "exception": false,
     "start_time": "2023-04-27T22:29:46.367719",
     "status": "completed"
    },
    "tags": []
   },
   "outputs": [
    {
     "data": {
      "text/plain": [
       "([<matplotlib.patches.Wedge at 0x72eb6c3ec510>,\n",
       "  <matplotlib.patches.Wedge at 0x72eb6c3eced0>,\n",
       "  <matplotlib.patches.Wedge at 0x72eb6c400750>,\n",
       "  <matplotlib.patches.Wedge at 0x72eb6c400250>],\n",
       " [Text(0.6414093669225578, 0.8936408809046303, 'Negative'),\n",
       "  Text(-1.0260553442286633, 0.39649770564254155, 'Positive'),\n",
       "  Text(-0.31734499213929374, -1.0532293937999033, 'Neutral'),\n",
       "  Text(0.9398173765782871, -0.5716146417662045, 'Irrelevant')],\n",
       " [Text(0.3498596546850315, 0.4874404804934347, '30.2%'),\n",
       "  Text(-0.5596665513974526, 0.21627147580502265, '27.9%'),\n",
       "  Text(-0.17309726843961473, -0.5744887602544927, '24.5%'),\n",
       "  Text(0.5126276599517929, -0.31178980459974787, '17.4%')])"
      ]
     },
     "execution_count": 5,
     "metadata": {},
     "output_type": "execute_result"
    },
    {
     "data": {
      "image/png": "[encoded data removed]",
      "text/plain": [
       "<Figure size 432x288 with 1 Axes>"
      ]
     },
     "metadata": {},
     "output_type": "display_data"
    }
   ],
   "source": [
    "plt.pie(data.Sentiment.value_counts()\n",
    ",labels=['Negative','Positive','Neutral','Irrelevant'],autopct='%1.1f%%')"
   ]
  },
  {
   "cell_type": "code",
   "execution_count": 6,
   "id": "f53d297e",
   "metadata": {
    "execution": {
     "iopub.execute_input": "2023-04-27T22:29:46.573152Z",
     "iopub.status.busy": "2023-04-27T22:29:46.572619Z",
     "iopub.status.idle": "2023-04-27T22:29:46.597419Z",
     "shell.execute_reply": "2023-04-27T22:29:46.596235Z"
    },
    "id": "KHetdbbm-130",
    "outputId": "ce4d8627-67b4-4f6b-9b57-2a3b0c8975a1",
    "papermill": {
     "duration": 0.044275,
     "end_time": "2023-04-27T22:29:46.601051",
     "exception": false,
     "start_time": "2023-04-27T22:29:46.556776",
     "status": "completed"
    },
    "tags": []
   },
   "outputs": [
    {
     "data": {
      "text/plain": [
       "Negative      22542\n",
       "Positive      20832\n",
       "Neutral       18318\n",
       "Irrelevant    12990\n",
       "Name: Sentiment, dtype: int64"
      ]
     },
     "execution_count": 6,
     "metadata": {},
     "output_type": "execute_result"
    }
   ],
   "source": [
    "data.Sentiment.value_counts()"
   ]
  },
  {
   "cell_type": "code",
   "execution_count": 7,
   "id": "fd24093b",
   "metadata": {
    "execution": {
     "iopub.execute_input": "2023-04-27T22:29:46.623984Z",
     "iopub.status.busy": "2023-04-27T22:29:46.623707Z",
     "iopub.status.idle": "2023-04-27T22:29:46.698554Z",
     "shell.execute_reply": "2023-04-27T22:29:46.697369Z"
    },
    "id": "l5I2nQwx-131",
    "outputId": "1d5c706e-5e9d-482f-dc6e-8efee045931d",
    "papermill": {
     "duration": 0.085931,
     "end_time": "2023-04-27T22:29:46.701382",
     "exception": false,
     "start_time": "2023-04-27T22:29:46.615451",
     "status": "completed"
    },
    "tags": []
   },
   "outputs": [
    {
     "name": "stdout",
     "output_type": "stream",
     "text": [
      "0\n"
     ]
    }
   ],
   "source": [
    "# removing duplicate data\n",
    "data.drop_duplicates(inplace=True)\n",
    "print(data.duplicated().sum())"
   ]
  },
  {
   "cell_type": "code",
   "execution_count": 8,
   "id": "25edd558",
   "metadata": {
    "execution": {
     "iopub.execute_input": "2023-04-27T22:29:46.716203Z",
     "iopub.status.busy": "2023-04-27T22:29:46.715894Z",
     "iopub.status.idle": "2023-04-27T22:29:46.744355Z",
     "shell.execute_reply": "2023-04-27T22:29:46.743202Z"
    },
    "id": "1mEgUAD2-134",
    "outputId": "6e958225-168f-4ca6-bbed-50aea29ff5d2",
    "papermill": {
     "duration": 0.039587,
     "end_time": "2023-04-27T22:29:46.746821",
     "exception": false,
     "start_time": "2023-04-27T22:29:46.707234",
     "status": "completed"
    },
    "tags": []
   },
   "outputs": [
    {
     "name": "stdout",
     "output_type": "stream",
     "text": [
      "Tweet_ID           0\n",
      "Entity             0\n",
      "Sentiment          0\n",
      "Tweet_content    326\n",
      "dtype: int64\n"
     ]
    }
   ],
   "source": [
    "# removing null data\n",
    "print(data.isnull().sum())\n",
    "data.dropna(axis=0, inplace=True)"
   ]
  },
  {
   "cell_type": "code",
   "execution_count": 9,
   "id": "99e5b89b",
   "metadata": {
    "execution": {
     "iopub.execute_input": "2023-04-27T22:29:46.761416Z",
     "iopub.status.busy": "2023-04-27T22:29:46.759751Z",
     "iopub.status.idle": "2023-04-27T22:29:46.773792Z",
     "shell.execute_reply": "2023-04-27T22:29:46.772707Z"
    },
    "id": "fm7RNHgo-135",
    "papermill": {
     "duration": 0.023166,
     "end_time": "2023-04-27T22:29:46.775922",
     "exception": false,
     "start_time": "2023-04-27T22:29:46.752756",
     "status": "completed"
    },
    "tags": []
   },
   "outputs": [
    {
     "name": "stdout",
     "output_type": "stream",
     "text": [
      "(71656, 5)\n"
     ]
    },
    {
     "data": {
      "text/html": [
       "<div>\n",
       "<style scoped>\n",
       "    .dataframe tbody tr th:only-of-type {\n",
       "        vertical-align: middle;\n",
       "    }\n",
       "\n",
       "    .dataframe tbody tr th {\n",
       "        vertical-align: top;\n",
       "    }\n",
       "\n",
       "    .dataframe thead th {\n",
       "        text-align: right;\n",
       "    }\n",
       "</style>\n",
       "<table border=\"1\" class=\"dataframe\">\n",
       "  <thead>\n",
       "    <tr style=\"text-align: right;\">\n",
       "      <th></th>\n",
       "      <th>index</th>\n",
       "      <th>Tweet_ID</th>\n",
       "      <th>Entity</th>\n",
       "      <th>Sentiment</th>\n",
       "      <th>Tweet_content</th>\n",
       "    </tr>\n",
       "  </thead>\n",
       "  <tbody>\n",
       "    <tr>\n",
       "      <th>0</th>\n",
       "      <td>0</td>\n",
       "      <td>2401</td>\n",
       "      <td>Borderlands</td>\n",
       "      <td>Positive</td>\n",
       "      <td>im getting on borderlands and i will murder yo...</td>\n",
       "    </tr>\n",
       "    <tr>\n",
       "      <th>1</th>\n",
       "      <td>1</td>\n",
       "      <td>2401</td>\n",
       "      <td>Borderlands</td>\n",
       "      <td>Positive</td>\n",
       "      <td>I am coming to the borders and I will kill you...</td>\n",
       "    </tr>\n",
       "    <tr>\n",
       "      <th>2</th>\n",
       "      <td>2</td>\n",
       "      <td>2401</td>\n",
       "      <td>Borderlands</td>\n",
       "      <td>Positive</td>\n",
       "      <td>im getting on borderlands and i will kill you ...</td>\n",
       "    </tr>\n",
       "    <tr>\n",
       "      <th>3</th>\n",
       "      <td>3</td>\n",
       "      <td>2401</td>\n",
       "      <td>Borderlands</td>\n",
       "      <td>Positive</td>\n",
       "      <td>im coming on borderlands and i will murder you...</td>\n",
       "    </tr>\n",
       "    <tr>\n",
       "      <th>4</th>\n",
       "      <td>4</td>\n",
       "      <td>2401</td>\n",
       "      <td>Borderlands</td>\n",
       "      <td>Positive</td>\n",
       "      <td>im getting on borderlands 2 and i will murder ...</td>\n",
       "    </tr>\n",
       "  </tbody>\n",
       "</table>\n",
       "</div>"
      ],
      "text/plain": [
       "   index  Tweet_ID       Entity Sentiment  \\\n",
       "0      0      2401  Borderlands  Positive   \n",
       "1      1      2401  Borderlands  Positive   \n",
       "2      2      2401  Borderlands  Positive   \n",
       "3      3      2401  Borderlands  Positive   \n",
       "4      4      2401  Borderlands  Positive   \n",
       "\n",
       "                                       Tweet_content  \n",
       "0  im getting on borderlands and i will murder yo...  \n",
       "1  I am coming to the borders and I will kill you...  \n",
       "2  im getting on borderlands and i will kill you ...  \n",
       "3  im coming on borderlands and i will murder you...  \n",
       "4  im getting on borderlands 2 and i will murder ...  "
      ]
     },
     "execution_count": 9,
     "metadata": {},
     "output_type": "execute_result"
    }
   ],
   "source": [
    "data.reset_index(inplace=True)\n",
    "print(data.shape)\n",
    "data.head()"
   ]
  },
  {
   "cell_type": "code",
   "execution_count": 10,
   "id": "945258e1",
   "metadata": {
    "execution": {
     "iopub.execute_input": "2023-04-27T22:29:46.790440Z",
     "iopub.status.busy": "2023-04-27T22:29:46.789621Z",
     "iopub.status.idle": "2023-04-27T22:29:46.796879Z",
     "shell.execute_reply": "2023-04-27T22:29:46.795974Z"
    },
    "id": "R8JV1zpD-137",
    "papermill": {
     "duration": 0.016462,
     "end_time": "2023-04-27T22:29:46.799029",
     "exception": false,
     "start_time": "2023-04-27T22:29:46.782567",
     "status": "completed"
    },
    "tags": []
   },
   "outputs": [],
   "source": [
    "# text cleaning function\n",
    "replace_list = {r\"i'm\": 'i am',\n",
    "                r\"'re\": ' are',\n",
    "                r\"let’s\": 'let us',\n",
    "                r\"'s\":  ' is',\n",
    "                r\"'ve\": ' have',\n",
    "                r\"can't\": 'can not',\n",
    "                r\"cannot\": 'can not',\n",
    "                r\"shan’t\": 'shall not',\n",
    "                r\"n't\": ' not',\n",
    "                r\"'d\": ' would',\n",
    "                r\"'ll\": ' will',\n",
    "                r\"'scuse\": 'excuse',\n",
    "                ',': ' ,',\n",
    "                '.': ' .',\n",
    "                '!': ' !',\n",
    "                '?': ' ?',\n",
    "                '\\s+': ' '}\n",
    "def clean_text(text):\n",
    "    text = text.lower()\n",
    "    for s in replace_list:\n",
    "        text = text.replace(s, replace_list[s])\n",
    "    text = ' '.join(text.split())\n",
    "    return text"
   ]
  },
  {
   "cell_type": "code",
   "execution_count": 11,
   "id": "d2dd2c29",
   "metadata": {
    "execution": {
     "iopub.execute_input": "2023-04-27T22:29:46.812983Z",
     "iopub.status.busy": "2023-04-27T22:29:46.812210Z",
     "iopub.status.idle": "2023-04-27T22:29:47.348191Z",
     "shell.execute_reply": "2023-04-27T22:29:47.347134Z"
    },
    "id": "ytIxRlmm-138",
    "papermill": {
     "duration": 0.545683,
     "end_time": "2023-04-27T22:29:47.350773",
     "exception": false,
     "start_time": "2023-04-27T22:29:46.805090",
     "status": "completed"
    },
    "tags": []
   },
   "outputs": [],
   "source": [
    "x = data['Tweet_content'].apply(lambda p: clean_text(p))"
   ]
  },
  {
   "cell_type": "code",
   "execution_count": 12,
   "id": "6109e245",
   "metadata": {
    "execution": {
     "iopub.execute_input": "2023-04-27T22:29:47.364543Z",
     "iopub.status.busy": "2023-04-27T22:29:47.363945Z",
     "iopub.status.idle": "2023-04-27T22:29:47.716987Z",
     "shell.execute_reply": "2023-04-27T22:29:47.716087Z"
    },
    "id": "NQvbGx0C-139",
    "outputId": "44694829-aabf-408b-babf-efc6b2463ae4",
    "papermill": {
     "duration": 0.36234,
     "end_time": "2023-04-27T22:29:47.719265",
     "exception": false,
     "start_time": "2023-04-27T22:29:47.356925",
     "status": "completed"
    },
    "tags": []
   },
   "outputs": [
    {
     "name": "stdout",
     "output_type": "stream",
     "text": [
      "max Tweet_content len: 311\n"
     ]
    },
    {
     "data": {
      "image/png": "[encoded data removed]",
      "text/plain": [
       "<Figure size 720x576 with 1 Axes>"
      ]
     },
     "metadata": {
      "needs_background": "light"
     },
     "output_type": "display_data"
    }
   ],
   "source": [
    "# analysing tweet lengths to find how many words to account for in our model\n",
    "Tweet_content_len = x.apply(lambda p: len(p.split(' ')))\n",
    "max_Tweet_content_len = Tweet_content_len.max()\n",
    "print('max Tweet_content len: {0}'.format(max_Tweet_content_len))\n",
    "plt.figure(figsize = (10, 8))\n",
    "plt.hist(Tweet_content_len, density = True)\n",
    "plt.xlabel('Tweet_content len')\n",
    "plt.ylabel('probability')\n",
    "plt.grid()"
   ]
  },
  {
   "cell_type": "code",
   "execution_count": 13,
   "id": "a63d169c",
   "metadata": {
    "execution": {
     "iopub.execute_input": "2023-04-27T22:29:47.733661Z",
     "iopub.status.busy": "2023-04-27T22:29:47.732830Z",
     "iopub.status.idle": "2023-04-27T22:29:47.756945Z",
     "shell.execute_reply": "2023-04-27T22:29:47.756096Z"
    },
    "id": "t1Kir_dS-13-",
    "papermill": {
     "duration": 0.033212,
     "end_time": "2023-04-27T22:29:47.758981",
     "exception": false,
     "start_time": "2023-04-27T22:29:47.725769",
     "status": "completed"
    },
    "tags": []
   },
   "outputs": [],
   "source": [
    "# data pre processing\n",
    "import re \n",
    "REPLACE_WITH_SPACE = re.compile(\"(@)\")\n",
    "SPACE = \" \"\n",
    "from nltk.corpus import stopwords\n",
    "english_stop_words = stopwords.words('english')\n",
    "from nltk.stem.porter import PorterStemmer\n",
    "#1\n",
    "def reviews(reviews):  \n",
    "    reviews = [REPLACE_WITH_SPACE.sub(SPACE, line.lower()) for line in reviews]\n",
    "    \n",
    "    return reviews\n",
    "#2\n",
    "def remove_stop_words(corpus):\n",
    "    removed_stop_words = []\n",
    "    for review in corpus:\n",
    "        removed_stop_words.append(\n",
    "            ' '.join([word for word in review.split()  if word not in english_stop_words]))\n",
    "    return removed_stop_words\n",
    "#3\n",
    "def get_stemmed_text(corpus):\n",
    "    stemmer = PorterStemmer()\n",
    "\n",
    "    return [' '.join([stemmer.stem(word) for word in review.split()]) for review in corpus]\n",
    "\n",
    "\n"
   ]
  },
  {
   "cell_type": "code",
   "execution_count": 14,
   "id": "47f5a35a",
   "metadata": {
    "execution": {
     "iopub.execute_input": "2023-04-27T22:29:47.772425Z",
     "iopub.status.busy": "2023-04-27T22:29:47.772111Z",
     "iopub.status.idle": "2023-04-27T22:29:47.777739Z",
     "shell.execute_reply": "2023-04-27T22:29:47.776849Z"
    },
    "id": "LEmnEJeP-13_",
    "papermill": {
     "duration": 0.014989,
     "end_time": "2023-04-27T22:29:47.779957",
     "exception": false,
     "start_time": "2023-04-27T22:29:47.764968",
     "status": "completed"
    },
    "tags": []
   },
   "outputs": [],
   "source": [
    "y =data['Sentiment']"
   ]
  },
  {
   "cell_type": "code",
   "execution_count": 15,
   "id": "3efdcce0",
   "metadata": {
    "execution": {
     "iopub.execute_input": "2023-04-27T22:29:47.793799Z",
     "iopub.status.busy": "2023-04-27T22:29:47.793485Z",
     "iopub.status.idle": "2023-04-27T22:30:10.701258Z",
     "shell.execute_reply": "2023-04-27T22:30:10.700230Z"
    },
    "id": "ABc1Nd6J-13_",
    "papermill": {
     "duration": 22.917611,
     "end_time": "2023-04-27T22:30:10.703867",
     "exception": false,
     "start_time": "2023-04-27T22:29:47.786256",
     "status": "completed"
    },
    "tags": []
   },
   "outputs": [],
   "source": [
    "#1\n",
    "reviewtweet = reviews(x)\n",
    "#2\n",
    "no_stop_words_tweet = remove_stop_words(reviewtweet)\n",
    "#3\n",
    "stemmed_reviews_tweet = get_stemmed_text(no_stop_words_tweet)"
   ]
  },
  {
   "cell_type": "code",
   "execution_count": 16,
   "id": "cc516d79",
   "metadata": {
    "execution": {
     "iopub.execute_input": "2023-04-27T22:30:10.717791Z",
     "iopub.status.busy": "2023-04-27T22:30:10.717472Z",
     "iopub.status.idle": "2023-04-27T22:30:13.475641Z",
     "shell.execute_reply": "2023-04-27T22:30:13.474620Z"
    },
    "id": "EG1vTQDD-14A",
    "papermill": {
     "duration": 2.767667,
     "end_time": "2023-04-27T22:30:13.478103",
     "exception": false,
     "start_time": "2023-04-27T22:30:10.710436",
     "status": "completed"
    },
    "tags": []
   },
   "outputs": [],
   "source": [
    "# string token vectorizer\n",
    "max_words = 8000\n",
    "\n",
    "\n",
    "tokenizer = Tokenizer(\n",
    "    num_words = max_words,\n",
    "    filters = '\"#$%&()*+-/:;<=>@[\\]^_`{|}~'\n",
    ")\n",
    "tokenizer.fit_on_texts(stemmed_reviews_tweet)\n",
    "x = tokenizer.texts_to_sequences(stemmed_reviews_tweet)\n",
    "x = pad_sequences(x, maxlen = 300)\n"
   ]
  },
  {
   "cell_type": "code",
   "execution_count": 17,
   "id": "5ffa174a",
   "metadata": {
    "execution": {
     "iopub.execute_input": "2023-04-27T22:30:13.492144Z",
     "iopub.status.busy": "2023-04-27T22:30:13.491848Z",
     "iopub.status.idle": "2023-04-27T22:30:14.616711Z",
     "shell.execute_reply": "2023-04-27T22:30:14.615681Z"
    },
    "id": "o1kLlcZe-14B",
    "papermill": {
     "duration": 1.134775,
     "end_time": "2023-04-27T22:30:14.619314",
     "exception": false,
     "start_time": "2023-04-27T22:30:13.484539",
     "status": "completed"
    },
    "tags": []
   },
   "outputs": [],
   "source": [
    "label_tokenizer = Tokenizer()\n",
    "label_tokenizer.fit_on_texts(y)\n",
    "\n",
    "y = np.array(label_tokenizer.texts_to_sequences(y))\n"
   ]
  },
  {
   "cell_type": "code",
   "execution_count": 18,
   "id": "ed83d7c2",
   "metadata": {
    "execution": {
     "iopub.execute_input": "2023-04-27T22:30:14.633448Z",
     "iopub.status.busy": "2023-04-27T22:30:14.633100Z",
     "iopub.status.idle": "2023-04-27T22:30:14.674737Z",
     "shell.execute_reply": "2023-04-27T22:30:14.673707Z"
    },
    "id": "M1ac5uyk-14B",
    "papermill": {
     "duration": 0.051401,
     "end_time": "2023-04-27T22:30:14.677342",
     "exception": false,
     "start_time": "2023-04-27T22:30:14.625941",
     "status": "completed"
    },
    "tags": []
   },
   "outputs": [],
   "source": [
    "# model creation\n",
    "from sklearn.model_selection import train_test_split\n",
    "x_train, x_test, y_train, y_test = train_test_split(x, y, train_size = 0.8)"
   ]
  },
  {
   "cell_type": "code",
   "execution_count": 19,
   "id": "1484c956",
   "metadata": {
    "execution": {
     "iopub.execute_input": "2023-04-27T22:30:14.692205Z",
     "iopub.status.busy": "2023-04-27T22:30:14.691847Z",
     "iopub.status.idle": "2023-04-27T22:30:17.775065Z",
     "shell.execute_reply": "2023-04-27T22:30:17.774156Z"
    },
    "id": "6gtVKyls-14C",
    "outputId": "738e3907-9cc6-4800-8d03-0569141e5d3e",
    "papermill": {
     "duration": 3.092955,
     "end_time": "2023-04-27T22:30:17.777467",
     "exception": false,
     "start_time": "2023-04-27T22:30:14.684512",
     "status": "completed"
    },
    "tags": []
   },
   "outputs": [
    {
     "name": "stdout",
     "output_type": "stream",
     "text": [
      "Model: \"sequential\"\n",
      "_________________________________________________________________\n",
      "Layer (type)                 Output Shape              Param #   \n",
      "=================================================================\n",
      "embedding (Embedding)        (None, 300, 128)          1024000   \n",
      "_________________________________________________________________\n",
      "spatial_dropout1d (SpatialDr (None, 300, 128)          0         \n",
      "_________________________________________________________________\n",
      "lstm (LSTM)                  (None, 128)               131584    \n",
      "_________________________________________________________________\n",
      "dense (Dense)                (None, 128)               16512     \n",
      "_________________________________________________________________\n",
      "dropout (Dropout)            (None, 128)               0         \n",
      "_________________________________________________________________\n",
      "dense_1 (Dense)              (None, 5)                 645       \n",
      "=================================================================\n",
      "Total params: 1,172,741\n",
      "Trainable params: 1,172,741\n",
      "Non-trainable params: 0\n",
      "_________________________________________________________________\n"
     ]
    }
   ],
   "source": [
    "model_lstm = Sequential()\n",
    "model_lstm.add(Embedding(input_dim = max_words, output_dim = 128, input_length = 300))\n",
    "model_lstm.add(SpatialDropout1D(0.3))\n",
    "model_lstm.add(LSTM(128, dropout = 0.3, recurrent_dropout = 0.3))\n",
    "model_lstm.add(Dense(128, activation = 'relu'))\n",
    "model_lstm.add(Dropout(0.3))\n",
    "model_lstm.add(Dense(5, activation = 'softmax'))\n",
    "model_lstm.compile(\n",
    "    loss='sparse_categorical_crossentropy',\n",
    "    optimizer='Adam',\n",
    "    metrics=['accuracy']\n",
    ")\n",
    "model_lstm.summary()"
   ]
  },
  {
   "cell_type": "code",
   "execution_count": 20,
   "id": "7e6c6bc6",
   "metadata": {
    "execution": {
     "iopub.execute_input": "2023-04-27T22:30:17.793460Z",
     "iopub.status.busy": "2023-04-27T22:30:17.791844Z",
     "iopub.status.idle": "2023-04-27T23:29:43.149972Z",
     "shell.execute_reply": "2023-04-27T23:29:43.149006Z"
    },
    "id": "c6xut99z-14C",
    "outputId": "b8be25cb-0984-4a1c-d7b3-c33b2570799f",
    "papermill": {
     "duration": 3565.367603,
     "end_time": "2023-04-27T23:29:43.152074",
     "exception": false,
     "start_time": "2023-04-27T22:30:17.784471",
     "status": "completed"
    },
    "tags": []
   },
   "outputs": [
    {
     "name": "stdout",
     "output_type": "stream",
     "text": [
      "Epoch 1/100\n",
      "112/112 [==============================] - 148s 1s/step - loss: 1.2923 - accuracy: 0.4094 - val_loss: 1.0417 - val_accuracy: 0.5706\n",
      "Epoch 2/100\n",
      "112/112 [==============================] - 145s 1s/step - loss: 0.9165 - accuracy: 0.6362 - val_loss: 0.7956 - val_accuracy: 0.6864\n",
      "Epoch 3/100\n",
      "112/112 [==============================] - 145s 1s/step - loss: 0.7138 - accuracy: 0.7276 - val_loss: 0.6973 - val_accuracy: 0.7298\n",
      "Epoch 4/100\n",
      "112/112 [==============================] - 143s 1s/step - loss: 0.6186 - accuracy: 0.7651 - val_loss: 0.6553 - val_accuracy: 0.7478\n",
      "Epoch 5/100\n",
      "112/112 [==============================] - 143s 1s/step - loss: 0.5533 - accuracy: 0.7893 - val_loss: 0.6116 - val_accuracy: 0.7651\n",
      "Epoch 6/100\n",
      "112/112 [==============================] - 144s 1s/step - loss: 0.5039 - accuracy: 0.8099 - val_loss: 0.5861 - val_accuracy: 0.7741\n",
      "Epoch 7/100\n",
      "112/112 [==============================] - 141s 1s/step - loss: 0.4646 - accuracy: 0.8227 - val_loss: 0.5715 - val_accuracy: 0.7875\n",
      "Epoch 8/100\n",
      "112/112 [==============================] - 143s 1s/step - loss: 0.4338 - accuracy: 0.8350 - val_loss: 0.5568 - val_accuracy: 0.7931\n",
      "Epoch 9/100\n",
      "112/112 [==============================] - 143s 1s/step - loss: 0.4086 - accuracy: 0.8448 - val_loss: 0.5469 - val_accuracy: 0.7993\n",
      "Epoch 10/100\n",
      "112/112 [==============================] - 143s 1s/step - loss: 0.3818 - accuracy: 0.8535 - val_loss: 0.5474 - val_accuracy: 0.8031\n",
      "Epoch 11/100\n",
      "112/112 [==============================] - 144s 1s/step - loss: 0.3611 - accuracy: 0.8619 - val_loss: 0.5451 - val_accuracy: 0.8051\n",
      "Epoch 12/100\n",
      "112/112 [==============================] - 142s 1s/step - loss: 0.3435 - accuracy: 0.8688 - val_loss: 0.5486 - val_accuracy: 0.8083\n",
      "Epoch 13/100\n",
      "112/112 [==============================] - 143s 1s/step - loss: 0.3325 - accuracy: 0.8709 - val_loss: 0.5482 - val_accuracy: 0.8117\n",
      "Epoch 14/100\n",
      "112/112 [==============================] - 142s 1s/step - loss: 0.3195 - accuracy: 0.8772 - val_loss: 0.5460 - val_accuracy: 0.8175\n",
      "Epoch 15/100\n",
      "112/112 [==============================] - 143s 1s/step - loss: 0.3070 - accuracy: 0.8806 - val_loss: 0.5474 - val_accuracy: 0.8143\n",
      "Epoch 16/100\n",
      "112/112 [==============================] - 141s 1s/step - loss: 0.2986 - accuracy: 0.8838 - val_loss: 0.5365 - val_accuracy: 0.8196\n",
      "Epoch 17/100\n",
      "112/112 [==============================] - 141s 1s/step - loss: 0.2898 - accuracy: 0.8864 - val_loss: 0.5501 - val_accuracy: 0.8193\n",
      "Epoch 18/100\n",
      "112/112 [==============================] - 141s 1s/step - loss: 0.2817 - accuracy: 0.8889 - val_loss: 0.5422 - val_accuracy: 0.8219\n",
      "Epoch 19/100\n",
      "112/112 [==============================] - 141s 1s/step - loss: 0.2704 - accuracy: 0.8939 - val_loss: 0.5456 - val_accuracy: 0.8218\n",
      "Epoch 20/100\n",
      "112/112 [==============================] - 142s 1s/step - loss: 0.2645 - accuracy: 0.8953 - val_loss: 0.5417 - val_accuracy: 0.8267\n",
      "Epoch 21/100\n",
      "112/112 [==============================] - 141s 1s/step - loss: 0.2559 - accuracy: 0.8986 - val_loss: 0.5540 - val_accuracy: 0.8258\n",
      "Epoch 22/100\n",
      "112/112 [==============================] - 142s 1s/step - loss: 0.2545 - accuracy: 0.9000 - val_loss: 0.5528 - val_accuracy: 0.8308\n",
      "Epoch 23/100\n",
      "112/112 [==============================] - 141s 1s/step - loss: 0.2455 - accuracy: 0.9022 - val_loss: 0.5554 - val_accuracy: 0.8292\n",
      "Epoch 24/100\n",
      "112/112 [==============================] - 141s 1s/step - loss: 0.2424 - accuracy: 0.9037 - val_loss: 0.5854 - val_accuracy: 0.8215\n",
      "Epoch 25/100\n",
      "112/112 [==============================] - 142s 1s/step - loss: 0.2502 - accuracy: 0.9025 - val_loss: 0.5588 - val_accuracy: 0.8302\n"
     ]
    }
   ],
   "source": [
    "history = model_lstm.fit(\n",
    "    x_train,\n",
    "    y_train,\n",
    "    validation_data=(x_test,y_test) , \n",
    "    epochs = 100,\n",
    "    batch_size = 512,\n",
    "    callbacks=EarlyStopping(monitor='val_accuracy', patience=3, restore_best_weights=True)\n",
    ")\n"
   ]
  },
  {
   "cell_type": "code",
   "execution_count": 21,
   "id": "14d551d3",
   "metadata": {
    "execution": {
     "iopub.execute_input": "2023-04-27T23:29:43.458589Z",
     "iopub.status.busy": "2023-04-27T23:29:43.456762Z",
     "iopub.status.idle": "2023-04-27T23:30:42.727051Z",
     "shell.execute_reply": "2023-04-27T23:30:42.725951Z"
    },
    "id": "EWLvCGZX-14D",
    "outputId": "d8875346-792c-4bfe-eb51-c963c19848da",
    "papermill": {
     "duration": 59.460862,
     "end_time": "2023-04-27T23:30:42.765676",
     "exception": false,
     "start_time": "2023-04-27T23:29:43.304814",
     "status": "completed"
    },
    "tags": []
   },
   "outputs": [
    {
     "data": {
      "image/png": "[encoded data removed]",
      "text/plain": [
       "<Figure size 432x288 with 1 Axes>"
      ]
     },
     "metadata": {
      "needs_background": "light"
     },
     "output_type": "display_data"
    },
    {
     "data": {
      "image/png": "[encoded data removed]",
      "text/plain": [
       "<Figure size 432x288 with 1 Axes>"
      ]
     },
     "metadata": {
      "needs_background": "light"
     },
     "output_type": "display_data"
    }
   ],
   "source": [
    "plt.figure(1)\n",
    "plt.plot(history.history['loss'])\n",
    "plt.plot(history.history['val_loss'])\n",
    "plt.legend(['training','validation'])\n",
    "plt.title('Loss')\n",
    "plt.xlabel('epoch')\n",
    "plt.figure(2)\n",
    "plt.plot(history.history['accuracy'])\n",
    "plt.plot(history.history['val_accuracy'])\n",
    "plt.legend(['training','validation'])\n",
    "plt.title('Accuracy')\n",
    "plt.xlabel('epoch')\n",
    "plt.show()"
   ]
  },
  {
   "cell_type": "code",
   "execution_count": 22,
   "id": "be0b7818",
   "metadata": {
    "execution": {
     "iopub.execute_input": "2023-04-27T23:30:43.065490Z",
     "iopub.status.busy": "2023-04-27T23:30:43.065106Z",
     "iopub.status.idle": "2023-04-27T23:31:12.622111Z",
     "shell.execute_reply": "2023-04-27T23:31:12.621024Z"
    },
    "id": "SuDOluob6-XP",
    "papermill": {
     "duration": 29.71127,
     "end_time": "2023-04-27T23:31:12.625247",
     "exception": false,
     "start_time": "2023-04-27T23:30:42.913977",
     "status": "completed"
    },
    "tags": []
   },
   "outputs": [
    {
     "name": "stdout",
     "output_type": "stream",
     "text": [
      "448/448 [==============================] - 30s 66ms/step - loss: 0.5528 - accuracy: 0.8308\n"
     ]
    },
    {
     "data": {
      "text/plain": [
       "[0.5527632832527161, 0.8307982087135315]"
      ]
     },
     "execution_count": 22,
     "metadata": {},
     "output_type": "execute_result"
    }
   ],
   "source": [
    "model_lstm.evaluate(x_test, y_test)"
   ]
  }
 ],
 "metadata": {
  "kernelspec": {
   "display_name": "Python 3",
   "language": "python",
   "name": "python3"
  },
  "language_info": {
   "codemirror_mode": {
    "name": "ipython",
    "version": 3
   },
   "file_extension": ".py",
   "mimetype": "text/x-python",
   "name": "python",
   "nbconvert_exporter": "python",
   "pygments_lexer": "ipython3",
   "version": "3.7.12"
  },
  "papermill": {
   "default_parameters": {},
   "duration": 3705.059595,
   "end_time": "2023-04-27T23:31:16.736777",
   "environment_variables": {},
   "exception": null,
   "input_path": "__notebook__.ipynb",
   "output_path": "__notebook__.ipynb",
   "parameters": {},
   "start_time": "2023-04-27T22:29:31.677182",
   "version": "2.3.4"
  }
 },
 "nbformat": 4,
 "nbformat_minor": 5
}
